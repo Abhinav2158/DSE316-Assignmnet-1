{
  "nbformat": 4,
  "nbformat_minor": 0,
  "metadata": {
    "colab": {
      "provenance": [],
      "gpuType": "T4"
    },
    "kernelspec": {
      "name": "python3",
      "display_name": "Python 3"
    },
    "language_info": {
      "name": "python"
    },
    "accelerator": "GPU"
  },
  "cells": [
    {
      "cell_type": "code",
      "source": [
        "import torch\n",
        "import torch.nn as nn\n",
        "import torch.optim as optim\n",
        "import torchvision\n",
        "from torchvision import datasets, models, transforms\n",
        "\n",
        "device = torch.device(\"cuda:0\" if torch.cuda.is_available() else \"cpu\")\n",
        "\n",
        "transform = transforms.Compose([\n",
        "    transforms.Resize((32, 32)),\n",
        "    transforms.ToTensor(),\n",
        "    transforms.Normalize((0.5, 0.5, 0.5), (0.5, 0.5, 0.5))\n",
        "])\n",
        "\n",
        "train_data = datasets.SVHN(root='./data', split='train', download=True, transform=transform)\n",
        "test_data = datasets.SVHN(root='./data', split='test', download=True, transform=transform)\n",
        "\n",
        "train_loader = torch.utils.data.DataLoader(train_data, batch_size=64, shuffle=True)\n",
        "test_loader = torch.utils.data.DataLoader(test_data, batch_size=64, shuffle=False)\n",
        "\n",
        "class LeNet5(nn.Module):\n",
        "    def __init__(self, num_classes=10):\n",
        "        super(LeNet5, self).__init__()\n",
        "        self.features = nn.Sequential(\n",
        "            nn.Conv2d(3, 6, kernel_size=5),\n",
        "            nn.ReLU(inplace=True),\n",
        "            nn.MaxPool2d(kernel_size=2, stride=2),\n",
        "            nn.Conv2d(6, 16, kernel_size=5),\n",
        "            nn.ReLU(inplace=True),\n",
        "            nn.MaxPool2d(kernel_size=2, stride=2)\n",
        "        )\n",
        "        self.classifier = nn.Sequential(\n",
        "            nn.Linear(16*5*5, 120),\n",
        "            nn.ReLU(inplace=True),\n",
        "            nn.Linear(120, 84),\n",
        "            nn.ReLU(inplace=True),\n",
        "            nn.Linear(84, num_classes)\n",
        "        )\n",
        "\n",
        "    def forward(self, x):\n",
        "        x = self.features(x)\n",
        "        x = torch.flatten(x, 1)\n",
        "        x = self.classifier(x)\n",
        "        return x\n",
        "\n",
        "\n",
        "\n",
        "class AlexNet(nn.Module):\n",
        "    def __init__(self, num_classes=1000):\n",
        "        super(AlexNet, self).__init__()\n",
        "        self.features = models.alexnet(pretrained=False).features\n",
        "        self.avgpool = nn.AdaptiveAvgPool2d((6, 6))\n",
        "        self.classifier = nn.Sequential(\n",
        "            nn.Dropout(),\n",
        "            nn.Linear(256 * 6 * 6, 4096),\n",
        "            nn.ReLU(inplace=True),\n",
        "            nn.Dropout(),\n",
        "            nn.Linear(4096, 4096),\n",
        "            nn.ReLU(inplace=True),\n",
        "            nn.Linear(4096, num_classes),\n",
        "        )\n",
        "\n",
        "    def forward(self, x):\n",
        "        x = self.features(x)\n",
        "        x = self.avgpool(x)\n",
        "        x = torch.flatten(x, 1)\n",
        "        x = self.classifier(x)\n",
        "        return x\n",
        "\n",
        "\n",
        "models_list = {\n",
        "    \"LeNet-5\": LeNet5,\n",
        "    \"AlexNet\": AlexNet,\n",
        "    \"VGG\": models.vgg16,\n",
        "    \"ResNet-18\": models.resnet18,\n",
        "    \"ResNet-50\": models.resnet50,\n",
        "    \"ResNet-101\": models.resnet101\n",
        "}\n",
        "\n",
        "def load_pretrained_weights(model_name):\n",
        "    if model_name == \"LeNet-5\":\n",
        "        return LeNet5().to(device)\n",
        "    elif model_name == \"AlexNet\":\n",
        "        model = AlexNet(num_classes=10)\n",
        "        pretrained_dict = models.alexnet(pretrained=True).state_dict()\n",
        "        model_dict = model.state_dict()\n",
        "        pretrained_dict = {k: v for k, v in pretrained_dict.items() if k in model_dict}\n",
        "        # Update the state dict\n",
        "        model_dict.update(pretrained_dict)\n",
        "        # Load the updated state dict\n",
        "        model.load_state_dict(model_dict)\n",
        "        return model.to(device)\n",
        "    else:\n",
        "        model = models_list[model_name](pretrained=True)\n",
        "        # Replace the last layer with custom output layer to match SVHN\n",
        "        if \"ResNet\" in model_name:\n",
        "            num_ftrs = model.fc.in_features\n",
        "            model.fc = nn.Linear(num_ftrs, 10)\n",
        "        else:\n",
        "            num_ftrs = model.classifier[-1].in_features\n",
        "            model.classifier[-1] = nn.Linear(num_ftrs, 10)\n",
        "        return model.to(device)\n",
        "\n",
        "\n",
        "def train_model(model, criterion, optimizer, num_epochs=5):\n",
        "    for epoch in range(num_epochs):\n",
        "        model.train()\n",
        "        running_loss = 0.0\n",
        "        correct = 0\n",
        "        total = 0\n",
        "\n",
        "        for inputs, labels in train_loader:\n",
        "            inputs, labels = inputs.to(device), labels.to(device)\n",
        "            optimizer.zero_grad()\n",
        "            outputs = model(inputs)\n",
        "            loss = criterion(outputs, labels)\n",
        "            loss.backward()\n",
        "            optimizer.step()\n",
        "\n",
        "            running_loss += loss.item()\n",
        "            _, predicted = outputs.max(1)\n",
        "            total += labels.size(0)\n",
        "            correct += predicted.eq(labels).sum().item()\n",
        "\n",
        "        train_loss = running_loss / len(train_loader)\n",
        "        train_accuracy = correct / total\n",
        "\n",
        "        print(f\"Epoch {epoch+1}/{num_epochs}, Train Loss: {train_loss:.4f}, Train Accuracy: {100*train_accuracy:.2f}%\")\n",
        "\n",
        "\n",
        "\n",
        "def test_model(model):\n",
        "    model.eval()\n",
        "    correct = 0\n",
        "    total = 0\n",
        "    with torch.no_grad():\n",
        "        for inputs, labels in test_loader:\n",
        "            inputs, labels = inputs.to(device), labels.to(device)\n",
        "            outputs = model(inputs)\n",
        "            _, predicted = outputs.max(1)\n",
        "            total += labels.size(0)\n",
        "            correct += predicted.eq(labels).sum().item()\n",
        "\n",
        "    test_accuracy = correct / total\n",
        "    print(f\"Test Accuracy: {100*test_accuracy:.2f}%\")\n",
        "\n",
        "\n",
        "\n",
        "\n",
        "my_list = []\n",
        "for model_name in models_list.keys():\n",
        "    my_list.append(model_name)\n"
      ],
      "metadata": {
        "colab": {
          "base_uri": "https://localhost:8080/"
        },
        "id": "8BMkPUZwXdxo",
        "outputId": "7fc6ed88-0e29-4c54-fb2a-32681a8bf091"
      },
      "execution_count": 4,
      "outputs": [
        {
          "output_type": "stream",
          "name": "stdout",
          "text": [
            "Using downloaded and verified file: ./data/train_32x32.mat\n",
            "Using downloaded and verified file: ./data/test_32x32.mat\n"
          ]
        }
      ]
    },
    {
      "cell_type": "code",
      "source": [
        "#LeNet-5 Model\n",
        "\n",
        "model = load_pretrained_weights(my_list[0])\n",
        "criterion = nn.CrossEntropyLoss()\n",
        "optimizer = optim.SGD(model.parameters(), lr=0.001, momentum=0.9)\n",
        "print(f\"Training {my_list[0]}...\")\n",
        "train_model(model, criterion, optimizer)\n",
        "print(f\"Testing {my_list[0]}...\")\n",
        "test_model(model)\n",
        "print()"
      ],
      "metadata": {
        "colab": {
          "base_uri": "https://localhost:8080/"
        },
        "id": "imyswkzwcE9w",
        "outputId": "5265b81b-73fa-4f8c-b6d6-4e04adb65aa0"
      },
      "execution_count": 5,
      "outputs": [
        {
          "output_type": "stream",
          "name": "stdout",
          "text": [
            "Training LeNet-5...\n",
            "Epoch 1/5, Train Loss: 2.2502, Train Accuracy: 17.86%\n",
            "Epoch 2/5, Train Loss: 2.2330, Train Accuracy: 18.92%\n",
            "Epoch 3/5, Train Loss: 2.2164, Train Accuracy: 18.96%\n",
            "Epoch 4/5, Train Loss: 1.8958, Train Accuracy: 34.04%\n",
            "Epoch 5/5, Train Loss: 1.0928, Train Accuracy: 66.39%\n",
            "Testing LeNet-5...\n",
            "Test Accuracy: 76.62%\n",
            "\n"
          ]
        }
      ]
    },
    {
      "cell_type": "code",
      "source": [
        "#VGG model\n",
        "model = load_pretrained_weights(my_list[2])\n",
        "criterion = nn.CrossEntropyLoss()\n",
        "optimizer = optim.SGD(model.parameters(), lr=0.001, momentum=0.9)\n",
        "print(f\"Training {my_list[2]}...\")\n",
        "train_model(model, criterion, optimizer)\n",
        "print(f\"Testing {my_list[2]}...\")\n",
        "test_model(model)\n",
        "print()"
      ],
      "metadata": {
        "colab": {
          "base_uri": "https://localhost:8080/"
        },
        "id": "O6N7pZ0dXzMv",
        "outputId": "7525d2d9-2cd3-48a1-a1db-3266a38d060c"
      },
      "execution_count": 8,
      "outputs": [
        {
          "output_type": "stream",
          "name": "stdout",
          "text": [
            "Training VGG...\n",
            "Epoch 1/5, Train Loss: 0.5971, Train Accuracy: 80.54%\n",
            "Epoch 2/5, Train Loss: 0.2786, Train Accuracy: 91.75%\n",
            "Epoch 3/5, Train Loss: 0.2155, Train Accuracy: 93.78%\n",
            "Epoch 4/5, Train Loss: 0.1785, Train Accuracy: 94.85%\n",
            "Epoch 5/5, Train Loss: 0.1498, Train Accuracy: 95.87%\n",
            "Testing VGG...\n",
            "Test Accuracy: 94.63%\n",
            "\n"
          ]
        }
      ]
    },
    {
      "cell_type": "code",
      "source": [
        "#ResNet 18\n",
        "\n",
        "model = load_pretrained_weights(my_list[3])\n",
        "criterion = nn.CrossEntropyLoss()\n",
        "optimizer = optim.SGD(model.parameters(), lr=0.001, momentum=0.9)\n",
        "print(f\"Training {my_list[3]}...\")\n",
        "train_model(model, criterion, optimizer)\n",
        "print(f\"Testing {my_list[3]}...\")\n",
        "test_model(model)\n",
        "print()\n",
        "\n",
        "\n",
        "#ResNet 50\n",
        "\n",
        "model = load_pretrained_weights(my_list[4])\n",
        "criterion = nn.CrossEntropyLoss()\n",
        "optimizer = optim.SGD(model.parameters(), lr=0.001, momentum=0.9)\n",
        "print(f\"Training {my_list[4]}...\")\n",
        "train_model(model, criterion, optimizer)\n",
        "print(f\"Testing {my_list[4]}...\")\n",
        "test_model(model)\n",
        "print()\n",
        "\n",
        "#ResNet 100\n",
        "\n",
        "model = load_pretrained_weights(my_list[4])\n",
        "criterion = nn.CrossEntropyLoss()\n",
        "optimizer = optim.SGD(model.parameters(), lr=0.001, momentum=0.9)\n",
        "print(f\"Training {my_list[5]}...\")\n",
        "train_model(model, criterion, optimizer)\n",
        "print(f\"Testing {my_list[5]}...\")\n",
        "test_model(model)\n",
        "print()"
      ],
      "metadata": {
        "colab": {
          "base_uri": "https://localhost:8080/"
        },
        "id": "hm5IHEgUX0ao",
        "outputId": "be2a185a-d801-40cf-a467-a86426efd446"
      },
      "execution_count": 12,
      "outputs": [
        {
          "output_type": "stream",
          "name": "stdout",
          "text": [
            "Training ResNet-18...\n",
            "Epoch 1/5, Train Loss: 0.7922, Train Accuracy: 73.73%\n",
            "Epoch 2/5, Train Loss: 0.3456, Train Accuracy: 89.25%\n",
            "Epoch 3/5, Train Loss: 0.2587, Train Accuracy: 92.04%\n",
            "Epoch 4/5, Train Loss: 0.2089, Train Accuracy: 93.60%\n",
            "Epoch 5/5, Train Loss: 0.1687, Train Accuracy: 94.81%\n",
            "Testing ResNet-18...\n",
            "Test Accuracy: 91.78%\n",
            "\n",
            "Training ResNet-50...\n",
            "Epoch 1/5, Train Loss: 0.7152, Train Accuracy: 76.28%\n",
            "Epoch 2/5, Train Loss: 0.2783, Train Accuracy: 91.56%\n",
            "Epoch 3/5, Train Loss: 0.1920, Train Accuracy: 94.22%\n",
            "Epoch 4/5, Train Loss: 0.1412, Train Accuracy: 95.73%\n",
            "Epoch 5/5, Train Loss: 0.1063, Train Accuracy: 96.79%\n",
            "Testing ResNet-50...\n",
            "Test Accuracy: 93.00%\n",
            "\n",
            "Training ResNet-101...\n",
            "Epoch 1/5, Train Loss: 0.7104, Train Accuracy: 76.56%\n",
            "Epoch 2/5, Train Loss: 0.2764, Train Accuracy: 91.65%\n",
            "Epoch 3/5, Train Loss: 0.1954, Train Accuracy: 94.09%\n",
            "Epoch 4/5, Train Loss: 0.1438, Train Accuracy: 95.65%\n",
            "Epoch 5/5, Train Loss: 0.1079, Train Accuracy: 96.80%\n",
            "Testing ResNet-101...\n",
            "Test Accuracy: 92.80%\n",
            "\n"
          ]
        }
      ]
    },
    {
      "cell_type": "code",
      "source": [
        "model = load_pretrained_weights(my_list[1])\n",
        "criterion = nn.CrossEntropyLoss()\n",
        "optimizer = optim.SGD(model.parameters(), lr=0.001, momentum=0.9)\n",
        "print(f\"Training {my_list[1]}...\")\n",
        "train_model(model, criterion, optimizer)\n",
        "print(f\"Testing {my_list[1]}...\")\n",
        "test_model(model)\n",
        "print()"
      ],
      "metadata": {
        "id": "28fXnLilvtNZ"
      },
      "execution_count": null,
      "outputs": []
    }
  ]
}